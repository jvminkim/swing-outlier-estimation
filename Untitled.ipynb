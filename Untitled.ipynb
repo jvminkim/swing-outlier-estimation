{
 "cells": [
  {
   "cell_type": "code",
   "execution_count": 2,
   "id": "23ccb3c9-4f15-401d-8dd4-9fdf0e84ef7c",
   "metadata": {},
   "outputs": [],
   "source": [
    "import pandas as pd\n",
    "import seaborn as sns\n",
    "import numpy as np"
   ]
  },
  {
   "cell_type": "code",
   "execution_count": 1,
   "id": "5d88e84b-2e79-4d25-8c34-d8a1e66905dd",
   "metadata": {},
   "outputs": [
    {
     "name": "stderr",
     "output_type": "stream",
     "text": [
      "/Users/jaminkim/anaconda3/envs/pymc_env/lib/python3.10/site-packages/tqdm/auto.py:21: TqdmWarning: IProgress not found. Please update jupyter and ipywidgets. See https://ipywidgets.readthedocs.io/en/stable/user_install.html\n",
      "  from .autonotebook import tqdm as notebook_tqdm\n"
     ]
    }
   ],
   "source": [
    "from collections import defaultdict\n",
    "import os\n",
    "\n",
    "import matplotlib.pyplot as plt\n",
    "import scipy.stats\n",
    "\n",
    "from jax import pure_callback, random\n",
    "import jax.numpy as jnp\n",
    "import optax\n",
    "\n",
    "import numpyro\n",
    "from numpyro import handlers\n",
    "from numpyro.contrib.funsor import config_enumerate, infer_discrete\n",
    "import numpyro.distributions as dist\n",
    "from numpyro.distributions import constraints\n",
    "from numpyro.infer import SVI, TraceEnum_ELBO, init_to_value\n",
    "from numpyro.infer.autoguide import AutoDelta"
   ]
  },
  {
   "cell_type": "markdown",
   "id": "f2c80f8b-9a60-439a-9ced-f2c98caceffb",
   "metadata": {},
   "source": [
    "## Pre-Processing\n",
    "1. Import players who have over 400 plate appearances in 2024.\n",
    "2. Import play-by-play data from Statcast in 2024.\n",
    "3. Filtered specific columns to keep in play-by-play data.\n",
    "4. Filtered bunts from play-by-play data.\n",
    "5. Remove NA's from needed columns"
   ]
  },
  {
   "cell_type": "code",
   "execution_count": 5,
   "id": "e6dc745e-6422-4310-b1d4-7b16d3967125",
   "metadata": {},
   "outputs": [],
   "source": [
    "#Get players who have 400 plate appearances or more\n",
    "from baseball_processing.data import *\n",
    "fangraphs_batting_min_400_2024 = get_table(\"fangraphs_batting_min_400_2024\")"
   ]
  },
  {
   "cell_type": "code",
   "execution_count": 3,
   "id": "12aab08e-e0db-45c6-9ea3-509de2a2068c",
   "metadata": {},
   "outputs": [
    {
     "name": "stdout",
     "output_type": "stream",
     "text": [
      "2024: 322559 rows\n"
     ]
    }
   ],
   "source": [
    "swing_2024 = get_swing_data([2024])"
   ]
  },
  {
   "cell_type": "code",
   "execution_count": 10,
   "id": "6132be75-085e-42fd-a5b6-8396627129e3",
   "metadata": {},
   "outputs": [
    {
     "name": "stdout",
     "output_type": "stream",
     "text": [
      "No rows dropped.\n"
     ]
    }
   ],
   "source": [
    "from baseball_processing.preprocessing import *\n",
    "columns_to_keep = [\"pitch_type\", \n",
    "                     \"game_date\", \n",
    "                     \"release_speed\", \n",
    "                     \"player_name\", \n",
    "                     \"batter\", \n",
    "                     \"pitcher\", \n",
    "                     \"events\",\n",
    "                     \"description\",\n",
    "                     \"des\", \n",
    "                     \"zone\",\n",
    "                     \"game_type\",\n",
    "                     \"stand\",\n",
    "                     \"p_throws\",\n",
    "                     \"bb_type\",\n",
    "                     \"balls\",\n",
    "                     \"strikes\",\n",
    "                     \"game_year\",\n",
    "                     \"plate_x\",\n",
    "                     \"plate_z\",\n",
    "                     \"launch_speed\",\n",
    "                     \"launch_angle\",\n",
    "                     \"effective_speed\",\n",
    "                     \"release_spin_rate\",\n",
    "                     \"release_extension\", \n",
    "                     \"estimated_ba_using_speedangle\",\n",
    "                     \"estimated_woba_using_speedangle\",\n",
    "                     \"woba_value\",\n",
    "                     \"arm_angle\",\n",
    "                     \"bat_speed\",\n",
    "                     \"swing_length\"]\n",
    "columns_na = [\"bat_speed\", \"swing_length\"]\n",
    "columns_not_na = remove_nan(swing_2024, columns_na)\n",
    "swing_2024 = remove_columns(swing_2024, columns_to_keep)\n"
   ]
  },
  {
   "cell_type": "code",
   "execution_count": 8,
   "id": "f930ef7a-0f6a-4532-b041-9130c4dea57e",
   "metadata": {},
   "outputs": [],
   "source": [
    "mlbam_ids_2024 = fangraphs_batting_min_400_2024[\"mlbam_id\"]\n",
    "swing_2024 = swing_2024[swing_2024[\"batter\"].isin(mlbam_ids_2024)]"
   ]
  },
  {
   "cell_type": "code",
   "execution_count": 9,
   "id": "5f996a8a-399f-47a8-8299-3b3cbbed04f0",
   "metadata": {},
   "outputs": [],
   "source": [
    "swing_2024 = swing_2024[(swing_2024[\"bat_speed\"] > 20) & (swing_2024[\"swing_length\"] > 3)]"
   ]
  },
  {
   "cell_type": "markdown",
   "id": "aa693c1b-613a-449c-9f9f-ca06666bc29f",
   "metadata": {},
   "source": [
    "## Modeling"
   ]
  },
  {
   "cell_type": "code",
   "execution_count": null,
   "id": "233117c2-195f-4360-a20b-cb36556fc064",
   "metadata": {},
   "outputs": [],
   "source": []
  }
 ],
 "metadata": {
  "kernelspec": {
   "display_name": "Python 3 (ipykernel)",
   "language": "python",
   "name": "python3"
  },
  "language_info": {
   "codemirror_mode": {
    "name": "ipython",
    "version": 3
   },
   "file_extension": ".py",
   "mimetype": "text/x-python",
   "name": "python",
   "nbconvert_exporter": "python",
   "pygments_lexer": "ipython3",
   "version": "3.10.17"
  }
 },
 "nbformat": 4,
 "nbformat_minor": 5
}
